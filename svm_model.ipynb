{
 "cells": [
  {
   "cell_type": "code",
   "execution_count": null,
   "id": "90f568c2-177a-44fc-ae66-ee994b3f9342",
   "metadata": {},
   "outputs": [],
   "source": [
    "import pandas as pd\n",
    "import numpy as np\n",
    "from scipy import stats\n",
    "import matplotlib.pyplot as plt\n",
    "\n",
    "from sklearn.neighbors import KNeighborsRegressor\n",
    "from sklearn.model_selection import train_test_split\n",
    "from sklearn.datasets import load_iris\n",
    "\n",
    "#shit for svm\n",
    "\n",
    "from sklearn import metrics \n",
    "from sklearn import svm"
   ]
  },
  {
   "cell_type": "code",
   "execution_count": null,
   "id": "6adc3d0a-ac85-43d6-8da3-ba44a757d692",
   "metadata": {},
   "outputs": [],
   "source": [
    "path_to_log = \"cleaned.csv\"\n",
    "log_df = pd.read_csv(path_to_log)\n",
    "#log_df\n",
    "\n",
    "log_df2 = log_df[['title','review_score']]\n",
    "log_df3 = log_df2.groupby(['title'], as_index=False).agg('mean')\n",
    "log_df3[\"title_num_words\"] = log_df3['title'].str.split().str.len()\n",
    "log_df3['contains_subheading'] = log_df3['title'].str.contains(\":\",regex=False).astype(int)\n",
    "log_df3"
   ]
  },
  {
   "cell_type": "code",
   "execution_count": null,
   "id": "5ec50bdc-e6c8-46e5-9a66-153a22ff2edb",
   "metadata": {},
   "outputs": [],
   "source": [
    "pred = ['title_num_words','contains_subheading']\n",
    "\n",
    "y = log_df3.review_score\n",
    "x = log_df3[pred]\n",
    "\n",
    "# split data 75/25 train/test. random state set 0. \n",
    "x_train, x_test, y_train, y_test = train_test_split(x, y, test_size = 0.25, random_state = 0) \n",
    "\n",
    "# create model\n",
    "regm =  svm.SVR()\n",
    "\n",
    "# fit model to training set\n",
    "regm.fit(x_train, y_train)\n",
    "\n",
    "# generating array of predictions\n",
    "y_pred = regm.predict(x_test)\n",
    "y_pred\n",
    "\n",
    "print(np.corrcoef(y_test, y_pred))"
   ]
  }
 ],
 "metadata": {
  "kernelspec": {
   "display_name": "Python 3 (ipykernel)",
   "language": "python",
   "name": "python3"
  },
  "language_info": {
   "codemirror_mode": {
    "name": "ipython",
    "version": 3
   },
   "file_extension": ".py",
   "mimetype": "text/x-python",
   "name": "python",
   "nbconvert_exporter": "python",
   "pygments_lexer": "ipython3",
   "version": "3.9.12"
  }
 },
 "nbformat": 4,
 "nbformat_minor": 5
}
